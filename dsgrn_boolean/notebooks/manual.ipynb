{
 "cells": [
  {
   "cell_type": "code",
   "execution_count": 1,
   "metadata": {},
   "outputs": [],
   "source": [
    "import DSGRN\n",
    "import DSGRN_utils\n",
    "import numpy as np\n",
    "import matplotlib.pyplot as plt\n",
    "from tqdm import tqdm\n",
    "from multiprocessing import Pool\n",
    "import os\n",
    "import json"
   ]
  },
  {
   "cell_type": "code",
   "execution_count": 2,
   "metadata": {},
   "outputs": [],
   "source": [
    "from dsgrn_boolean.utils.hill_analysis import analyze_hill_coefficients\n",
    "from dsgrn_boolean.utils.newton import newton_method\n",
    "from dsgrn_boolean.utils.dsgrn_sample_to_matrix import extract_parameter_matrices\n",
    "from dsgrn_boolean.utils.nullclines import plot_nullclines\n",
    "from dsgrn_boolean.utils.interactive import plot_nullclines_interactive\n",
    "\n",
    "from dsgrn_boolean.models.hill import HillFunction, hill\n",
    "\n",
    "from dsgrn_boolean.utils.sample_management import load_samples"
   ]
  },
  {
   "cell_type": "code",
   "execution_count": null,
   "metadata": {},
   "outputs": [],
   "source": [
    "net_spec = \"\"\"x : x + y : E\n",
    "              y : (~x) y : E\"\"\"\n",
    "\n",
    "network = DSGRN.Network(net_spec)\n",
    "\n",
    "G = DSGRN.DrawGraph(network)\n",
    "display(G)\n",
    "\n",
    "parameter_graph = DSGRN.ParameterGraph(network)\n",
    "\n",
    "print('Number of parameter nodes:', parameter_graph.size())\n"
   ]
  },
  {
   "cell_type": "code",
   "execution_count": 4,
   "metadata": {},
   "outputs": [],
   "source": [
    "par_list = [0, 49, 98, 147]"
   ]
  },
  {
   "cell_type": "code",
   "execution_count": null,
   "metadata": {},
   "outputs": [],
   "source": [
    "par_index = 98\n",
    "\n",
    "parameter = parameter_graph.parameter(par_index)\n",
    "\n",
    "# sampler = DSGRN.ParameterSampler(network)\n",
    "n_samples = 10000\n",
    "samples = load_samples(par_index)\n",
    "\n",
    "# morse_graph, stg, graded_complex = DSGRN_utils.ConleyMorseGraph(parameter)\n",
    "# DSGRN_utils.PlotMorseSets(morse_graph, stg, graded_complex)"
   ]
  },
  {
   "cell_type": "code",
   "execution_count": 6,
   "metadata": {},
   "outputs": [],
   "source": [
    "# par_sample = sampler.sample(parameter)\n",
    "# L, U, T = extract_parameter_matrices(par_sample, network)\n",
    "# d = 100\n",
    "# plot_nullclines_interactive(L, U, T, d)"
   ]
  },
  {
   "cell_type": "code",
   "execution_count": null,
   "metadata": {},
   "outputs": [],
   "source": [
    "# Expected number of equilibria\n",
    "expected_eq = len(DSGRN.EquilibriumCells(parameter))\n",
    "print(\"expected_equilibria = \", expected_eq)"
   ]
  },
  {
   "cell_type": "code",
   "execution_count": 8,
   "metadata": {},
   "outputs": [],
   "source": [
    "d_range = range(200,201)"
   ]
  },
  {
   "cell_type": "code",
   "execution_count": null,
   "metadata": {},
   "outputs": [],
   "source": [
    "# Let's do a few less samples lol \n",
    "# samples_1000 = samples[:1000]\n",
    "# samples = samples[:1000]\n",
    "samples_100 = samples[:100]\n",
    "samples = samples_100\n",
    "\n",
    "# Use your pre-generated samples with sample tracking\n",
    "results, summary, optimal_d, sample_results = analyze_hill_coefficients(\n",
    "    network, \n",
    "    parameter, \n",
    "    samples, \n",
    "    d_range\n",
    ")\n",
    "\n",
    "print(f\"\\nSummary:\")\n",
    "print(f\"Expected equilibria: {summary['expected_equilibria']}\")\n",
    "print(f\"Best match percentage: {summary['best_match']:.1f}% at d = {summary['best_match_d']}\")\n",
    "print(f\"Worst match percentage: {summary['worst_match']:.1f}% at d = {summary['worst_match_d']}\")"
   ]
  },
  {
   "cell_type": "code",
   "execution_count": null,
   "metadata": {},
   "outputs": [],
   "source": [
    "# Example: Check which samples matched at a specific d value\n",
    "d = 200  # Adjust this value based on your d_range\n",
    "print(f\"\\nAt d={d}:\")\n",
    "print(f\"Matching samples: {sample_results[d]['matches']}\")\n",
    "print(f\"Failed samples: {sample_results[d]['failures']}\")"
   ]
  },
  {
   "cell_type": "code",
   "execution_count": null,
   "metadata": {},
   "outputs": [],
   "source": [
    "# Example: Track a specific sample across all d values\n",
    "sample_id = sample_results[d]['failures'][0]  # You can change this to track different samples\n",
    "print(f\"\\nTracking sample {sample_id}:\")\n",
    "matching_d = [d for d in d_range if sample_id in sample_results[d]['matches']]\n",
    "failing_d = [d for d in d_range if sample_id in sample_results[d]['failures']]\n",
    "print(f\"Matching d values: {matching_d}\")\n",
    "print(f\"Failing d values: {failing_d}\")"
   ]
  },
  {
   "cell_type": "code",
   "execution_count": null,
   "metadata": {},
   "outputs": [],
   "source": [
    "par_sample = samples[sample_id]\n",
    "L, U, T = extract_parameter_matrices(par_sample, network)\n",
    "plot_nullclines_interactive(L, U, T, d)"
   ]
  },
  {
   "cell_type": "code",
   "execution_count": null,
   "metadata": {},
   "outputs": [],
   "source": [
    "print(T)"
   ]
  },
  {
   "cell_type": "code",
   "execution_count": null,
   "metadata": {},
   "outputs": [],
   "source": [
    "len(range(0,10))"
   ]
  },
  {
   "cell_type": "code",
   "execution_count": null,
   "metadata": {},
   "outputs": [],
   "source": []
  }
 ],
 "metadata": {
  "kernelspec": {
   "display_name": ".venv",
   "language": "python",
   "name": "python3"
  },
  "language_info": {
   "codemirror_mode": {
    "name": "ipython",
    "version": 3
   },
   "file_extension": ".py",
   "mimetype": "text/x-python",
   "name": "python",
   "nbconvert_exporter": "python",
   "pygments_lexer": "ipython3",
   "version": "3.12.6"
  }
 },
 "nbformat": 4,
 "nbformat_minor": 2
}
